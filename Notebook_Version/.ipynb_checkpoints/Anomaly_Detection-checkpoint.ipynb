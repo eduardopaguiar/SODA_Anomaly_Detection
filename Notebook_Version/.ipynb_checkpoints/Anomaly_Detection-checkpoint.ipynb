{
 "cells": [
  {
   "cell_type": "markdown",
   "metadata": {},
   "source": [
    "## This code begins with the importation of all necessary libraries to run it."
   ]
  },
  {
   "cell_type": "code",
   "execution_count": 1,
   "metadata": {},
   "outputs": [],
   "source": [
    "import numpy as np\n",
    "import pandas as pd\n",
    "import threading\n",
    "import time\n",
    "import pickle\n",
    "import math\n",
    "from psutil import cpu_percent, swap_memory\n",
    "from sklearn.decomposition import PCA\n",
    "from sklearn import preprocessing\n",
    "import matplotlib.pyplot as plt\n",
    "import matplotlib.patches as mpatches\n",
    "from IPython.display import display, HTML\n",
    "from sklearn.preprocessing import StandardScaler\n",
    "from mpl_toolkits.mplot3d import Axes3D\n",
    "from scipy.spatial.distance import pdist, cdist, squareform\n",
    "from matplotlib.colors import ListedColormap\n",
    "from sklearn.model_selection import train_test_split\n",
    "import os\n",
    "import Functions as fu\n",
    "import seaborn as sn\n",
    "from scipy.stats import moment\n",
    "from datetime import datetime"
   ]
  },
  {
   "cell_type": "markdown",
   "metadata": {},
   "source": [
    "### The cell below declares and exhibits the directories structure of the model:"
   ]
  },
  {
   "cell_type": "code",
   "execution_count": 2,
   "metadata": {},
   "outputs": [],
   "source": [
    "# Adding paths for the code to the model's folders\n",
    "        \n",
    "add_path1 = \"/PCA_Analyses/\"\n",
    "add_path2 = \"/Input/\"\n",
    "add_path3 = \"/.Kernel/\"\n",
    "add_path4 = \"/PCA_Analyses/Figures/\"\n",
    "add_path5 = \"/Recovery/\"\n",
    "add_path6 = \"/SODA/\"\n",
    "base_path = os.getcwd()\n",
    "PCA_Analyses_path = base_path + add_path1\n",
    "Input_path = base_path + add_path2\n",
    "Kernel_path = base_path + add_path3\n",
    "PCA_Figures_path = base_path + add_path4\n",
    "Recovery_path = base_path + add_path5\n",
    "SODA_path = base_path + add_path6"
   ]
  },
  {
   "cell_type": "markdown",
   "metadata": {},
   "source": [
    "### The cell below declares variables for perfomance analysis:"
   ]
  },
  {
   "cell_type": "code",
   "execution_count": 3,
   "metadata": {},
   "outputs": [],
   "source": [
    "class performance(threading.Thread):\n",
    "    def __init__(self):\n",
    "        threading.Thread.__init__(self)\n",
    "        self.control = True\n",
    "    \n",
    "    def run(self):\n",
    "        cpu_p = []\n",
    "        ram_p = []\n",
    "        ram_u = []\n",
    "        while self.control:\n",
    "            cpu_p.append(cpu_percent(interval=1, percpu=True))\n",
    "            ram_p.append(swap_memory().percent)\n",
    "            ram_u.append(swap_memory().used/(1024**3))\n",
    "        self.mean_cpu_p = np.mean(cpu_p)\n",
    "        self.mean_ram_p = np.mean(ram_p)\n",
    "        self.mean_ram_u = np.mean(ram_u)\n",
    "        self.max_cpu_p = np.max(np.mean(cpu_p, axis=1))\n",
    "        self.max_ram_p = np.max(ram_p)\n",
    "        self.max_ram_u = np.max(ram_u)\n",
    "    \n",
    "    def stop(self):\n",
    "        self.control = False\n",
    "    \n",
    "    def join(self):\n",
    "        threading.Thread.join(self)\n",
    "        out = {'mean_cpu_p': self.mean_cpu_p,\n",
    "               'mean_ram_p': self.mean_ram_p,\n",
    "               'mean_ram_u': self.mean_ram_u,\n",
    "               'max_cpu_p': self.max_cpu_p,\n",
    "               'max_ram_p': self.max_ram_p,\n",
    "               'max_ram_u': self.max_ram_u}\n",
    "        return out"
   ]
  },
  {
   "cell_type": "markdown",
   "metadata": {},
   "source": [
    "## The following cells present the model methods and outputs"
   ]
  },
  {
   "cell_type": "markdown",
   "metadata": {},
   "source": [
    "- Firstly the model loads the background and signal data, then it removes the attributes first string line, in order to avoid NaN values in the array."
   ]
  },
  {
   "cell_type": "code",
   "execution_count": 4,
   "metadata": {},
   "outputs": [],
   "source": [
    "# Changing to the Input folder\n",
    "\n",
    "os.chdir( Input_path )\n",
    "\n",
    "# Loading data into the code\n",
    "  \n",
    "### Background    \n",
    "\n",
    "b_name='Input_Background_1.csv'\n",
    "\n",
    "background = np.genfromtxt(b_name, delimiter=',')\n",
    "background = background[1:,:]\n",
    "\n",
    "### Signal\n",
    "\n",
    "s_name='Input_Signal_1.csv'\n",
    "\n",
    "signal = np.genfromtxt(s_name, delimiter=',')\n",
    "signal = signal[1:,:]\n",
    "\n",
    "# Changing to base folder:\n",
    "\n",
    "os.chdir( base_path )"
   ]
  },
  {
   "cell_type": "markdown",
   "metadata": {},
   "source": [
    "- Here we present the shapes of background and signal data."
   ]
  },
  {
   "cell_type": "code",
   "execution_count": 5,
   "metadata": {},
   "outputs": [
    {
     "name": "stdout",
     "output_type": "stream",
     "text": [
      "Background data shape:\n",
      "(543500, 21)\n",
      "Signal data shape:\n",
      "(522467, 21)\n"
     ]
    }
   ],
   "source": [
    "print('Background data shape:')\n",
    "print(background.shape)\n",
    "\n",
    "print('Signal data shape:')\n",
    "print(signal.shape)"
   ]
  },
  {
   "cell_type": "markdown",
   "metadata": {},
   "source": [
    "#### If you want to continue the previous analysis, the following cell loads the necessary data for you.\n",
    "\n",
    "Ps.: In this case do not run the reduction script which is the next process."
   ]
  },
  {
   "cell_type": "code",
   "execution_count": 9,
   "metadata": {},
   "outputs": [
    {
     "name": "stdout",
     "output_type": "stream",
     "text": [
      "Background data shape:\n",
      "(543500, 21)\n",
      "Signal data shape:\n",
      "(522467, 21)\n",
      "Reduced Background data shape:\n",
      "(500, 21)\n",
      "Reduced signal data shape:\n",
      "(5225, 21)\n",
      "Reduced background labels shape:\n",
      "(5435,)\n",
      "Reduced signal labes data shape:\n",
      "(5225,)\n"
     ]
    }
   ],
   "source": [
    "# Changing to Recovery folder\n",
    "\n",
    "os.chdir( Recovery_path )\n",
    "\n",
    "reduced_background = np.savetxt('Reduced_' + b_name,reduced_background,delimiter=',')\n",
    "background_sample_id = np.savetxt('Reduced_ID_' + b_name,background_sample_id,delimiter=',')\n",
    "\n",
    "print('Reduced Background data shape:')\n",
    "print(reduced_background.shape)\n",
    "\n",
    "reduced_background_on = np.savetxt('Reduced_online_' + b_name,reduced_background_on,delimiter=',')\n",
    "background_on_sample_id = np.savetxt('Reduced_ID_online' + b_name,background_on_sample_id,delimiter=',')\n",
    "\n",
    "print('Reduced Online Background data shape:')\n",
    "print(reduced_background_on.shape)\n",
    "\n",
    "reduced_signal = np.savetxt('Reduced_' + s_name,reduced_signal,delimiter=',')\n",
    "signal_sample_id = np.savetxt('Reduced_ID_' + s_name,signal_sample_id,delimiter=',')\n",
    "\n",
    "print('Reduced Online Signal data shape:')\n",
    "print(reduced_signal.shape)\n",
    "\n",
    "# Changing to base folder\n",
    "\n",
    "os.chdir( base_path )"
   ]
  },
  {
   "cell_type": "markdown",
   "metadata": {},
   "source": [
    "- In order to grant impartial results, we randomly split the Background data into test and training sub-sets."
   ]
  },
  {
   "cell_type": "code",
   "execution_count": 6,
   "metadata": {},
   "outputs": [],
   "source": [
    "# Devide data-set into training and testing sub-sets\n",
    "\n",
    "background_train, background_test = train_test_split(background, test_size=0.80, random_state=42)"
   ]
  },
  {
   "cell_type": "markdown",
   "metadata": {},
   "source": [
    "- Due to the data dimensionality, only a percentage of the events can be processed at a time. By the means of reducing the number of events, the data was divided into consecutive windows of events. From each window, a number of events were randomly maintained in the reduced data. This function is set by default to use 1% of the data and each window has 100 events. However, in this example, we have used 5K events of the Background on the offline phase. In the online phase, 990 events of the Background and 10 events of the Signal were processed."
   ]
  },
  {
   "cell_type": "code",
   "execution_count": 7,
   "metadata": {},
   "outputs": [],
   "source": [
    "# Number of Data-set divisions\n",
    "windows = 100\n",
    "\n",
    "# Number of events in offline and online phase\n",
    "offline_samples = 5000\n",
    "online_samples = 1000\n",
    "\n",
    "# Defining number of events from Backgorund and Singal into the online sub-set\n",
    "background_samples = int(online_samples * 0.99)\n",
    "signal_samples = int(online_samples - background_samples)\n",
    "\n",
    "# DIVIDE BACKGROUND\n",
    "reduced_background, background_sample_id = fu.divide(background, windows,offline_samples)\n",
    "\n",
    "# Devide online Backgound \n",
    "reduced_background_on, background_on_sample_id = fu.divide (background_test, windows, background_samples)\n",
    "\n",
    "# Devide online signal\n",
    "reduced_signal, signal_sample_id = fu.divide(signal, windows, signal_samples)\n",
    "\n",
    "# Concatanating IDs and creating labels\n",
    "sample_id = np.concatenate((background_on_sample_id, signal_sample_id), axis=0)\n"
   ]
  },
  {
   "cell_type": "markdown",
   "metadata": {},
   "source": [
    "- Nextly, the reduced data is saved in the Recovery directory."
   ]
  },
  {
   "cell_type": "code",
   "execution_count": 8,
   "metadata": {},
   "outputs": [
    {
     "name": "stdout",
     "output_type": "stream",
     "text": [
      "Reduced Background data shape:\n",
      "(5000, 21)\n",
      "Reduced Online Background data shape:\n",
      "(990, 21)\n",
      "Reduced Online Signal data shape:\n",
      "(10, 21)\n"
     ]
    }
   ],
   "source": [
    "# Changing to Recovery folder\n",
    "\n",
    "os.chdir( Recovery_path )\n",
    "\n",
    "np.savetxt('Reduced_' + b_name,reduced_background,delimiter=',')\n",
    "np.savetxt('Reduced_ID_' + b_name,background_sample_id,delimiter=',')\n",
    "\n",
    "print('Reduced Background data shape:')\n",
    "print(reduced_background.shape)\n",
    "\n",
    "np.savetxt('Reduced_online_' + b_name,reduced_background_on,delimiter=',')\n",
    "np.savetxt('Reduced_ID_online' + b_name,background_on_sample_id,delimiter=',')\n",
    "\n",
    "print('Reduced Online Background data shape:')\n",
    "print(reduced_background_on.shape)\n",
    "\n",
    "np.savetxt('Reduced_' + s_name,reduced_signal,delimiter=',')\n",
    "np.savetxt('Reduced_ID_' + s_name,signal_sample_id,delimiter=',')\n",
    "\n",
    "print('Reduced Online Signal data shape:')\n",
    "print(reduced_signal.shape)\n",
    "\n",
    "# Changing to base folder\n",
    "\n",
    "os.chdir( base_path )"
   ]
  },
  {
   "cell_type": "markdown",
   "metadata": {},
   "source": [
    "- Aiming to improve data patterns differentiation, in the following cell, we calculate the [moments](https://docs.scipy.org/doc/scipy/reference/generated/scipy.stats.moment.html) of each event regarding its 21 attributes. The moments used were of 2nd ([variance](https://en.wikipedia.org/wiki/Variance)), 3rd ([skewness](https://en.wikipedia.org/wiki/Skewness)) and 4th ([kurtosis](https://en.wikipedia.org/wiki/Kurtosis)) order. Check the links for further information."
   ]
  },
  {
   "cell_type": "code",
   "execution_count": 9,
   "metadata": {},
   "outputs": [],
   "source": [
    "moment2 = moment(reduced_background.transpose(), moment=2).reshape(-1,1)\n",
    "moment3 = moment(reduced_background.transpose(), moment=3).reshape(-1,1)\n",
    "moment4 = moment(reduced_background.transpose(), moment=4).reshape(-1,1)\n",
    "\n",
    "reduced_background = np.concatenate((reduced_background,moment2,moment3,moment4), axis=1)\n",
    "       \n",
    "moment2 = moment(reduced_background_on.transpose(), moment=2).reshape(-1,1)\n",
    "moment3 = moment(reduced_background_on.transpose(), moment=3).reshape(-1,1)\n",
    "moment4 = moment(reduced_background_on.transpose(), moment=4).reshape(-1,1)\n",
    "\n",
    "reduced_background_on = np.concatenate((reduced_background_on,moment2,moment3,moment4), axis=1)\n",
    "\n",
    "moment2 = moment(reduced_signal.transpose(), moment=2).reshape(-1,1)\n",
    "moment3 = moment(reduced_signal.transpose(), moment=3).reshape(-1,1)\n",
    "moment4 = moment(reduced_signal.transpose(), moment=4).reshape(-1,1)\n",
    "\n",
    "reduced_signal = np.concatenate((reduced_signal,moment2,moment3,moment4), axis=1)"
   ]
  },
  {
   "cell_type": "markdown",
   "metadata": {
    "colab_type": "text",
    "id": "jS1d7dxeFQ6j"
   },
   "source": [
    "### PCA:\n",
    "\n",
    "- The principal component analysis method is calculated only with the background data, aiming to maximize anomalies differentiation."
   ]
  },
  {
   "cell_type": "code",
   "execution_count": 10,
   "metadata": {
    "scrolled": false
   },
   "outputs": [
    {
     "data": {
      "image/png": "[encoded data removed]",
      "text/plain": [
       "<Figure size 1152x576 with 1 Axes>"
      ]
     },
     "metadata": {
      "needs_background": "light"
     },
     "output_type": "display_data"
    },
    {
     "name": "stdout",
     "output_type": "stream",
     "text": [
      "Variation maintained: 80.26\n"
     ]
    }
   ],
   "source": [
    "# Changing to Kernel folder\n",
    "\n",
    "os.chdir( PCA_Analyses_path )\n",
    "\n",
    "N_PCs = 8\n",
    "\n",
    "background_scaler = StandardScaler().fit(reduced_background)\n",
    "standard_data = background_scaler.transform(reduced_background)\n",
    "\n",
    "pca= PCA(n_components = N_PCs)\n",
    "pca.fit(standard_data)\n",
    "        \n",
    "# save the model to disk\n",
    "\n",
    "pickle.dump(pca, open('pca.sav', 'wb'))\n",
    "        \n",
    "variacao_percentual_pca = np.round(pca.explained_variance_ratio_ * 100, decimals = 2)\n",
    "        \n",
    "# Now change to PCA Figures directory\n",
    "\n",
    "os.chdir( PCA_Figures_path )\n",
    "        \n",
    "fig = plt.figure(figsize=[16,8])\n",
    "ax = fig.subplots(1,1)\n",
    "ax.bar(x=['PC' + str(x) for x in range(1,(N_PCs+1))],height=variacao_percentual_pca[0:N_PCs])\n",
    "\n",
    "ax.set_ylabel('Percentage of Variance Held',fontsize=20)\n",
    "ax.set_xlabel('Principal Components',fontsize=20)\n",
    "ax.tick_params(axis='x', labelsize=14)\n",
    "ax.tick_params(axis='y', labelsize=18)\n",
    "ax.grid()\n",
    "plt.show()\n",
    "fig.savefig('Percentage_of_Variance_Held_1.png', bbox_inches='tight')\n",
    "\n",
    "print('Variation maintained: %.2f' % variacao_percentual_pca.sum())\n",
    "\n",
    "# Now change to base directory\n",
    "\n",
    "os.chdir( base_path )"
   ]
  },
  {
   "cell_type": "markdown",
   "metadata": {},
   "source": [
    "- Then a PCA variation and relevance of attributes analysis is performed."
   ]
  },
  {
   "cell_type": "code",
   "execution_count": 11,
   "metadata": {},
   "outputs": [
    {
     "data": {
      "image/png": "[encoded data removed]",
      "text/plain": [
       "<Figure size 1440x576 with 1 Axes>"
      ]
     },
     "metadata": {
      "needs_background": "light"
     },
     "output_type": "display_data"
    }
   ],
   "source": [
    "# Now change to PCA Figures directory\n",
    "\n",
    "os.chdir( PCA_Figures_path )\n",
    "\n",
    "### Attributes analyses ###\n",
    "\n",
    "background_df = pd.DataFrame(reduced_background, columns=[\"px1\",\"py1\",\"pz1\",\"E1\",\"eta1\",\"phi1\",\"pt1\",\"px2\",\"py2\",\\\n",
    "                                                  \"pz2\",\"E2\",\"eta2\",\"phi2\",\"pt2\",\"Delta_R\",\"M12\",\"MET\",\"S\",\\\n",
    "                                                  \"C\",\"HT\",\"A\",\"M2\",\"M3\",\"M4\"])\n",
    "\n",
    "eigen_matrix = np.array(pca.components_)\n",
    "eigen_matrix = pow((pow(eigen_matrix,2)),0.5) #invertendo valores negativos\n",
    "\n",
    "for i in range (eigen_matrix.shape[0]):\n",
    "\n",
    "    LineSum = sum(eigen_matrix[i,:])\n",
    "    for j in range (eigen_matrix.shape[1]):\n",
    "        eigen_matrix[i,j] = ((eigen_matrix[i,j]*100)/LineSum)\n",
    "\n",
    "weighted_contribution = np.zeros((2,eigen_matrix.shape[1]))\n",
    "\n",
    "for i in range (eigen_matrix.shape[1]):\n",
    "    NumeratorSum = 0\n",
    "    for j in range (N_PCs):\n",
    "        NumeratorSum += eigen_matrix[j,i] * variacao_percentual_pca[j]\n",
    "\n",
    "    weighted_contribution[0,i] = NumeratorSum / sum(variacao_percentual_pca)\n",
    "\n",
    "                    \n",
    "sensors_contribution = pd.DataFrame (weighted_contribution, columns = background_df.columns)\n",
    "                    \n",
    "sensors_contribution = sensors_contribution.sort_values(by=0, axis=1,ascending=False)\n",
    "                    \n",
    "sorted_sensors_contribution = sensors_contribution.values[0,:] \n",
    "                    \n",
    "background_df = background_df [sensors_contribution.columns]\n",
    "                    \n",
    "                    \n",
    "#Ploting Cntribution Sensors Results\n",
    "                    \n",
    "fig = plt.figure(figsize=[20,8])\n",
    "\n",
    "fig.suptitle('Attributes Weighted Contribution Percentage', fontsize=16)\n",
    "\n",
    "ax = fig.subplots(1,1)\n",
    "\n",
    "s = sorted_sensors_contribution[:]\n",
    "\n",
    "ax.bar(x=sensors_contribution.columns,height=s)\n",
    "plt.ylabel('Relevance Percentage',fontsize = 20)\n",
    "plt.xlabel('Attributes',fontsize = 20)\n",
    "plt.tick_params(axis='x', labelsize=14)\n",
    "plt.tick_params(axis='y', labelsize=18)\n",
    "ax.grid()\n",
    "\n",
    "plt.show()\n",
    "fig.savefig('Attributes_Weighted_Contribution_Percentage_1.png', bbox_inches='tight')\n",
    "\n",
    "\n",
    "\n",
    "# Now change to base directory\n",
    "\n",
    "os.chdir( base_path )"
   ]
  },
  {
   "cell_type": "markdown",
   "metadata": {},
   "source": [
    "- It is important to observe that the moments (M2, M3 and M4) influence on the model is greater than some original attributes."
   ]
  },
  {
   "cell_type": "markdown",
   "metadata": {},
   "source": [
    "- Finaly, the online and offiline data are normalized and projected in the calculated PCs."
   ]
  },
  {
   "cell_type": "code",
   "execution_count": 12,
   "metadata": {},
   "outputs": [],
   "source": [
    "# Projecting Background\n",
    "projected_background = pca.transform(standard_data)\n",
    "\n",
    "# Normalizing online Background\n",
    "scaler = StandardScaler().fit(reduced_background_on)\n",
    "standard_background_on= scaler.transform(reduced_background_on)\n",
    "\n",
    "# Projecting online Background\n",
    "projected_background_on = pca.transform(standard_background_on)\n",
    "\n",
    "# Normalizing online Signal\n",
    "scaler = StandardScaler().fit(reduced_signal)\n",
    "standard_signal = scaler.transform(reduced_signal)\n",
    "\n",
    "# Projecting online Signal\n",
    "projected_signal = pca.transform(standard_signal)\n"
   ]
  },
  {
   "cell_type": "markdown",
   "metadata": {},
   "source": [
    "### SODA:\n",
    "\n",
    "#### .Available distances: \n",
    " ##### Offline Mode:\n",
    " - euclidean - linha reta entre os pontos\n",
    " - mahalanobis - correlação entre as variaveis (determina similaridade)\n",
    " - cityblock - distancia das projeções dos pontos (taxicab/manhattan)\n",
    " - chebyshev - maior distancia entre as coordenadas (rei)\n",
    " - minkowski - generalização de outras distâncias:\n",
    "  - p = 1 $\\rightarrow$ cityblock,\n",
    "  - p = 2 $\\rightarrow$ euclidean,\n",
    "  - p = $\\infty$ $\\rightarrow$ chebyshev.\n",
    " - canberra - versão com pesos da cityblock, sensivel para pontos proximos à origem\n",
    " \n",
    " ##### Evolving Mode:\n",
    " - euclidean - linha reta entre os pontos"
   ]
  },
  {
   "cell_type": "markdown",
   "metadata": {},
   "source": [
    "#### The following cell formats the offline and online data to begin SODA analyse"
   ]
  },
  {
   "cell_type": "code",
   "execution_count": 13,
   "metadata": {},
   "outputs": [],
   "source": [
    "###### Formmating Original Data\n",
    "\n",
    "# Formatting Background\n",
    "Data1 = projected_background\n",
    "Data1 = np.matrix(Data1)\n",
    "L1, W = Data1.shape\n",
    "        \n",
    "# Formatting Online Background\n",
    "Data2= projected_background_on\n",
    "Data2 = np.matrix(Data2)\n",
    "L2, W2 = Data2.shape\n",
    "\n",
    "# Formatting Online Signal\n",
    "Data3= projected_signal\n",
    "Data3 = np.matrix(Data3)\n",
    "L3, _ = Data3.shape\n",
    "\n",
    "# Concatenating Online Background and Signal\n",
    "streaming_data = np.concatenate((Data2,Data3), axis=0)\n",
    "data = np.concatenate((Data1, streaming_data), axis=0)"
   ]
  },
  {
   "cell_type": "markdown",
   "metadata": {},
   "source": [
    "- Aiming to compare the model performance for different granularities between `min_granularity` and `max_granularity` , we loop the SODA process in the next cell.\n",
    "\n",
    "- Due to the time required to run this cell for big granularities, we presented here just an example. The complete process will be executed on the script form of our code. We encourage you to see and study it by clicking here."
   ]
  },
  {
   "cell_type": "code",
   "execution_count": 14,
   "metadata": {},
   "outputs": [],
   "source": [
    "# Number of iterations\n",
    "min_granularity = 1\n",
    "max_granularity = 2\n",
    "\n",
    "delta = max_granularity - min_granularity + 1\n"
   ]
  },
  {
   "cell_type": "markdown",
   "metadata": {},
   "source": [
    "- In the next cell we create data frames to save each iteration result."
   ]
  },
  {
   "cell_type": "code",
   "execution_count": 15,
   "metadata": {},
   "outputs": [],
   "source": [
    "detection_info = pd.DataFrame(np.zeros((delta, 6)), columns=['Granularity','True_Positive', 'True_Negative','False_Positive','False_Negative', 'N_Groups'])\n",
    "\n",
    "performance_info = pd.DataFrame(np.zeros((delta, 8)), columns=['Granularity', 'Time_Elapsed',\n",
    "                                                            'Mean CPU_Percentage', 'Max CPU_Percentage',\n",
    "                                                            'Mean RAM_Percentage', 'Max RAM_Percentage',\n",
    "                                                            'Mean RAM_Usage_GB', 'Max RAM_Usage_GB'])"
   ]
  },
  {
   "cell_type": "markdown",
   "metadata": {},
   "source": [
    "#### Method explanation:\n",
    "\n",
    "- The SODA is a self-organized algorithm which, partitions a data-set into non-parametric data-clouds. In the offline mode, we deliver to SODA a data-set compound only by normal events (background). Afterward, in its online mode, SODA re-organizes those data-clouds to follow the streaming data patterns. Thus, by analyzing the difference between data clouds before and after a streaming data arrival, one can identify anomaly data patterns (from the signal). This analysis calculates how much of the offline data is inside each data-cloud after the streaming data arrival. Consequently, data-cloud with more offline data is more similar to normal events (background). Those with no offline data are regarded as anomaly data-clouds since they don't follow the offline data patterns.\n",
    "\n",
    "\n",
    "\n",
    "- Furthermore, considering that our testing data-set should respect the proportion of 99% background and 1% signal, we label these events to ensure that they were correctly classified. However, these labels do not take part in the model's decision.\n",
    "\n",
    "\n",
    "#### Applying SODA to the original Data"
   ]
  },
  {
   "cell_type": "code",
   "execution_count": 16,
   "metadata": {
    "scrolled": false
   },
   "outputs": [
    {
     "name": "stdout",
     "output_type": "stream",
     "text": [
      "### Granularity 1 ###\n"
     ]
    },
    {
     "data": {
      "text/html": [
       "<table border=\"1\" class=\"dataframe\">\n",
       "  <thead>\n",
       "    <tr style=\"text-align: right;\">\n",
       "      <th></th>\n",
       "      <th>0</th>\n",
       "    </tr>\n",
       "  </thead>\n",
       "  <tbody>\n",
       "    <tr>\n",
       "      <th>Granularity</th>\n",
       "      <td>1.0</td>\n",
       "    </tr>\n",
       "    <tr>\n",
       "      <th>True_Positive</th>\n",
       "      <td>0.0</td>\n",
       "    </tr>\n",
       "    <tr>\n",
       "      <th>True_Negative</th>\n",
       "      <td>990.0</td>\n",
       "    </tr>\n",
       "    <tr>\n",
       "      <th>False_Positive</th>\n",
       "      <td>0.0</td>\n",
       "    </tr>\n",
       "    <tr>\n",
       "      <th>False_Negative</th>\n",
       "      <td>10.0</td>\n",
       "    </tr>\n",
       "    <tr>\n",
       "      <th>N_Groups</th>\n",
       "      <td>4.0</td>\n",
       "    </tr>\n",
       "  </tbody>\n",
       "</table>"
      ],
      "text/plain": [
       "<IPython.core.display.HTML object>"
      ]
     },
     "metadata": {},
     "output_type": "display_data"
    },
    {
     "data": {
      "text/html": [
       "<table border=\"1\" class=\"dataframe\">\n",
       "  <thead>\n",
       "    <tr style=\"text-align: right;\">\n",
       "      <th></th>\n",
       "      <th>0</th>\n",
       "    </tr>\n",
       "  </thead>\n",
       "  <tbody>\n",
       "    <tr>\n",
       "      <th>Granularity</th>\n",
       "      <td>1</td>\n",
       "    </tr>\n",
       "    <tr>\n",
       "      <th>Time_Elapsed</th>\n",
       "      <td>0:00:08.583966</td>\n",
       "    </tr>\n",
       "    <tr>\n",
       "      <th>Mean CPU_Percentage</th>\n",
       "      <td>30.4875</td>\n",
       "    </tr>\n",
       "    <tr>\n",
       "      <th>Max CPU_Percentage</th>\n",
       "      <td>33.8</td>\n",
       "    </tr>\n",
       "    <tr>\n",
       "      <th>Mean RAM_Percentage</th>\n",
       "      <td>0.1</td>\n",
       "    </tr>\n",
       "    <tr>\n",
       "      <th>Max RAM_Percentage</th>\n",
       "      <td>0.1</td>\n",
       "    </tr>\n",
       "    <tr>\n",
       "      <th>Mean RAM_Usage_GB</th>\n",
       "      <td>0.057373</td>\n",
       "    </tr>\n",
       "    <tr>\n",
       "      <th>Max RAM_Usage_GB</th>\n",
       "      <td>0.057373</td>\n",
       "    </tr>\n",
       "  </tbody>\n",
       "</table>"
      ],
      "text/plain": [
       "<IPython.core.display.HTML object>"
      ]
     },
     "metadata": {},
     "output_type": "display_data"
    },
    {
     "name": "stdout",
     "output_type": "stream",
     "text": [
      "### Granularity 2 ###\n"
     ]
    },
    {
     "data": {
      "text/html": [
       "<table border=\"1\" class=\"dataframe\">\n",
       "  <thead>\n",
       "    <tr style=\"text-align: right;\">\n",
       "      <th></th>\n",
       "      <th>1</th>\n",
       "    </tr>\n",
       "  </thead>\n",
       "  <tbody>\n",
       "    <tr>\n",
       "      <th>Granularity</th>\n",
       "      <td>2.0</td>\n",
       "    </tr>\n",
       "    <tr>\n",
       "      <th>True_Positive</th>\n",
       "      <td>0.0</td>\n",
       "    </tr>\n",
       "    <tr>\n",
       "      <th>True_Negative</th>\n",
       "      <td>988.0</td>\n",
       "    </tr>\n",
       "    <tr>\n",
       "      <th>False_Positive</th>\n",
       "      <td>2.0</td>\n",
       "    </tr>\n",
       "    <tr>\n",
       "      <th>False_Negative</th>\n",
       "      <td>10.0</td>\n",
       "    </tr>\n",
       "    <tr>\n",
       "      <th>N_Groups</th>\n",
       "      <td>20.0</td>\n",
       "    </tr>\n",
       "  </tbody>\n",
       "</table>"
      ],
      "text/plain": [
       "<IPython.core.display.HTML object>"
      ]
     },
     "metadata": {},
     "output_type": "display_data"
    },
    {
     "data": {
      "text/html": [
       "<table border=\"1\" class=\"dataframe\">\n",
       "  <thead>\n",
       "    <tr style=\"text-align: right;\">\n",
       "      <th></th>\n",
       "      <th>1</th>\n",
       "    </tr>\n",
       "  </thead>\n",
       "  <tbody>\n",
       "    <tr>\n",
       "      <th>Granularity</th>\n",
       "      <td>2</td>\n",
       "    </tr>\n",
       "    <tr>\n",
       "      <th>Time_Elapsed</th>\n",
       "      <td>0:01:07.059756</td>\n",
       "    </tr>\n",
       "    <tr>\n",
       "      <th>Mean CPU_Percentage</th>\n",
       "      <td>28.8762</td>\n",
       "    </tr>\n",
       "    <tr>\n",
       "      <th>Max CPU_Percentage</th>\n",
       "      <td>39.1</td>\n",
       "    </tr>\n",
       "    <tr>\n",
       "      <th>Mean RAM_Percentage</th>\n",
       "      <td>0.1</td>\n",
       "    </tr>\n",
       "    <tr>\n",
       "      <th>Max RAM_Percentage</th>\n",
       "      <td>0.1</td>\n",
       "    </tr>\n",
       "    <tr>\n",
       "      <th>Mean RAM_Usage_GB</th>\n",
       "      <td>0.057373</td>\n",
       "    </tr>\n",
       "    <tr>\n",
       "      <th>Max RAM_Usage_GB</th>\n",
       "      <td>0.057373</td>\n",
       "    </tr>\n",
       "  </tbody>\n",
       "</table>"
      ],
      "text/plain": [
       "<IPython.core.display.HTML object>"
      ]
     },
     "metadata": {},
     "output_type": "display_data"
    }
   ],
   "source": [
    "os.chdir( SODA_path )\n",
    "\n",
    "for gra in range (min_granularity, max_granularity+1):\n",
    "    begin = datetime.now()\n",
    "\n",
    "    i = gra - min_granularity\n",
    "\n",
    "    performance_thread = performance()\n",
    "    performance_thread.start()\n",
    "    \n",
    "    detection_info.loc[i,'Granularity'] = gra\n",
    "    performance_info.loc[i,'Granularity'] = gra\n",
    "    \n",
    "    print('### Granularity ' + str(gra) + ' ###')\n",
    "\n",
    "    Input = {'GridSize':gra, 'StaticData':Data1, 'DistanceType': 'euclidean'}\n",
    "\n",
    "    out = fu.SelfOrganisedDirectionAwareDataPartitioning(Input,'Offline')\n",
    "\n",
    "    # Concatanating IDs and creating labels\n",
    "        \n",
    "    new_label = np.zeros((int(online_samples)))\n",
    "    new_label[background_samples:] = 1\n",
    "    \n",
    "    new_decision = np.zeros((int(online_samples)))\n",
    "    \n",
    "    Input['StreamingData'] = streaming_data\n",
    "    Input['SystemParams'] = out['SystemParams']\n",
    "    Input['AllData'] = data\n",
    "    \n",
    "    online_out = fu.SelfOrganisedDirectionAwareDataPartitioning(Input,'Evolving')\n",
    "\n",
    "    \n",
    "    signal_centers = online_out['C']\n",
    "    soda_labels = online_out['IDX']\n",
    "    online_soda_labels = soda_labels[(L1):]\n",
    "    \n",
    "    cloud_info = pd.DataFrame(np.zeros((len(signal_centers),4)),columns=['Total_Samples','Old_Samples','Percentage_Old_Samples', 'Percentage_of_Samples'])\n",
    "    \n",
    "    for j in range (len(soda_labels)):\n",
    "        if j < L1:\n",
    "            cloud_info.loc[int(soda_labels[j]),'Old_Samples'] += 1\n",
    "\n",
    "        cloud_info.loc[int(soda_labels[j]),'Total_Samples'] += 1\n",
    "\n",
    "    cloud_info.loc[:,'Percentage_Old_Samples'] = cloud_info.loc[:,'Old_Samples'] * 100 / cloud_info.loc[:,'Total_Samples']\n",
    "    cloud_info.loc[:,'Percentage_of_Samples'] = cloud_info.loc[:,'Total_Samples'] * 100/ cloud_info.loc[:,'Total_Samples'].sum()\n",
    "\n",
    "    \n",
    "    anomaly_clouds=[]\n",
    "    n_anomalies = 0\n",
    "\n",
    "    for j in range(len(signal_centers)):\n",
    "        if cloud_info.loc[j,'Percentage_Old_Samples'] == 0 :\n",
    "            n_anomalies += cloud_info.loc[j,'Total_Samples']\n",
    "            anomaly_clouds.append(j)\n",
    "    \n",
    "    if n_anomalies != 0:\n",
    "        \n",
    "        anomalies_df = pd.DataFrame(np.zeros((int(n_anomalies),2)), columns=['Sample_Id','Cloud_ID'])\n",
    "        \n",
    "        k = 0\n",
    "        \n",
    "        for j in range(len(online_soda_labels)): \n",
    "            if online_soda_labels[j] in anomaly_clouds:\n",
    "                anomalies_df.loc[k,'Sample_Id'] = sample_id [j]\n",
    "                anomalies_df.loc[k,'Cloud_ID'] = soda_labels[j]\n",
    "                new_decision[j] = 1\n",
    "                k +=1\n",
    "\n",
    "        # Save Results \n",
    "        anomalies_df.to_csv('anomalies_Iterantion_' + str(gra) + '.csv')\n",
    "        \n",
    "    for j in range(len(new_label)):\n",
    "        if new_label[j] == 1:\n",
    "            if new_decision[j] == new_label[j]:\n",
    "                detection_info.loc[i,'True_Positive'] += 1\n",
    "            \n",
    "            else:\n",
    "                detection_info.loc[i,'False_Negative'] += 1\n",
    "                \n",
    "        else:\n",
    "            if new_decision[j] == new_label[j]:\n",
    "                detection_info.loc[i,'True_Negative'] += 1\n",
    "            \n",
    "            else:\n",
    "                detection_info.loc[i,'False_Positive'] += 1\n",
    "\n",
    "\n",
    "    \n",
    "    detection_info.loc[i, 'N_Groups'] = max(soda_labels)+1\n",
    "\n",
    "    performance_thread.stop()\n",
    "    performance_out = performance_thread.join()\n",
    "    final = datetime.now()\n",
    "    performance_info.loc[i,'Time_Elapsed'] = (final - begin)\n",
    "    performance_info.loc[i,'Mean CPU_Percentage'] = performance_out['mean_cpu_p']\n",
    "    performance_info.loc[i,'Max CPU_Percentage'] = performance_out['max_cpu_p']\n",
    "    performance_info.loc[i,'Mean RAM_Percentage'] = performance_out['mean_ram_p']\n",
    "    performance_info.loc[i,'Max RAM_Percentage'] = performance_out['max_ram_p']\n",
    "    performance_info.loc[i,'Mean RAM_Usage_GB'] = performance_out['mean_ram_u']\n",
    "    performance_info.loc[i,'Max RAM_Usage_GB'] = performance_out['max_ram_u']\n",
    "\n",
    "    display1 = pd.DataFrame(detection_info.loc[i,:])\n",
    "    display(HTML(display1.to_html()))\n",
    "    \n",
    "    display2 = pd.DataFrame(performance_info.loc[i])\n",
    "    display(HTML(display2.to_html()))\n",
    "\n",
    "    detection_info.to_csv('detection_info.csv', index=False)\n",
    "    performance_info.to_csv('performance_info.csv', index=False)\n",
    "\n",
    "os.chdir( base_path )"
   ]
  },
  {
   "cell_type": "markdown",
   "metadata": {},
   "source": [
    "- As previously mentioned, we executed the processes with the script version of our model. Therefore, in the next cell, we upload the results of the original attributes and the moment analyses, aiming to compare and discuss the differences between them."
   ]
  },
  {
   "cell_type": "code",
   "execution_count": null,
   "metadata": {},
   "outputs": [],
   "source": [
    "os.chdir( Input_path )\n",
    "\n",
    "# Load and formats the Original data analyse\n",
    "\n",
    "accuracy_2 = np.genfromtxt('detection_Original_info_2.csv',delimiter=',')\n",
    "accuracy_2[:,0] += 1\n",
    "accuracy_df = pd.DataFrame(accuracy_2[1:],columns = ['Granularity','True_Positive','True_Negative','False_Positive','False_Negative'])\n",
    "\n",
    "os.chdir( SODA_path )\n",
    "\n",
    "#Load and formats the moment's data analyse\n",
    "\n",
    "accuracy_3 = np.genfromtxt('detection_info.csv',delimiter=',')\n",
    "accuracy_df2 = pd.DataFrame(accuracy_3[1:31,:5],columns = ['Granularity','True_Positive','True_Negative','False_Positive','False_Negative'])\n",
    "\n",
    "os.chdir( base_path )"
   ]
  },
  {
   "cell_type": "markdown",
   "metadata": {},
   "source": [
    "- The following cell calculates the True Positive, and the False Positive rates"
   ]
  },
  {
   "cell_type": "code",
   "execution_count": null,
   "metadata": {},
   "outputs": [],
   "source": [
    "accuracy = []\n",
    "threat_score = []\n",
    "tp_rate = []\n",
    "fp_rate = []\n",
    "for index, row in accuracy_df.iterrows():\n",
    "    accuracy_dict = row.to_dict()\n",
    "    #confusionmatrix(accuracy_dict, gra[index])\n",
    "    \n",
    "    tp = accuracy_dict['True_Positive']\n",
    "    tn = accuracy_dict['True_Negative']\n",
    "    fp = accuracy_dict['False_Positive']\n",
    "    fn = accuracy_dict['False_Negative']\n",
    "    \n",
    "    acc = ((tp + tn) / (tp + tn + fp + fn))*100\n",
    "\n",
    "    ts = (tp / (tp + fp + fn))*100\n",
    "\n",
    "    tpr = tp / (tp + fn)\n",
    "    fpr = fp / (fp + tn)\n",
    "    \n",
    "    \n",
    "    #print('----------------- {} -------------------'.format(gra[index-1]))\n",
    "    #print(\"True Positive Rate = {:.2f}\".format(tpr*100))\n",
    "    #print(\"False Positive Rate = {:.2f}\".format(fpr*100))\n",
    "    #print(\"Accuracy = {:.2f}\".format(acc))\n",
    "    #print(\"Threat Score = {:.2f}\".format(ts))\n",
    "    accuracy.append(acc)\n",
    "    threat_score.append(ts)\n",
    "    tp_rate.append(tpr)\n",
    "    fp_rate.append(fpr)\n",
    "\n",
    "accuracy2 = []\n",
    "threat_score2 = []\n",
    "tp_rate2 = []\n",
    "fp_rate2 = []\n",
    "for index, row in accuracy_df2.iterrows():\n",
    "    accuracy_dict = row.to_dict()\n",
    "    #confusionmatrix(accuracy_dict, gra[index])\n",
    "    \n",
    "    tp = accuracy_dict['True_Positive']\n",
    "    tn = accuracy_dict['True_Negative']\n",
    "    fp = accuracy_dict['False_Positive']\n",
    "    fn = accuracy_dict['False_Negative']\n",
    "    \n",
    "    acc = ((tp + tn) / (tp + tn + fp + fn))*100\n",
    "\n",
    "    ts = (tp / (tp + fp + fn))*100\n",
    "\n",
    "    tpr = tp / (tp + fn)\n",
    "    fpr = fp / (fp + tn)\n",
    "    \n",
    "    \n",
    "    #print('----------------- {} -------------------'.format(gra[index-1]))\n",
    "    #print(\"True Positive Rate = {:.2f}\".format(tpr*100))\n",
    "    #print(\"False Positive Rate = {:.2f}\".format(fpr*100))\n",
    "    #print(\"Accuracy = {:.2f}\".format(acc))\n",
    "    #print(\"Threat Score = {:.2f}\".format(ts))\n",
    "    accuracy2.append(acc)\n",
    "    threat_score2.append(ts)\n",
    "    tp_rate2.append(tpr)\n",
    "    fp_rate2.append(fpr)"
   ]
  },
  {
   "cell_type": "code",
   "execution_count": null,
   "metadata": {},
   "outputs": [],
   "source": [
    "\n",
    "os.chdir( SODA_path )\n",
    "\n",
    "# Plot Without Features extraction\n",
    "\n",
    "fig = plt.figure(figsize=[20,8])\n",
    "\n",
    "fig.suptitle('Original Attributes', fontsize=20)\n",
    "\n",
    "ax = fig.subplots(1,1)\n",
    "\n",
    "s = np.array(tp_rate) *100\n",
    "\n",
    "ax.bar(x=['G' + str(x) for x in range(1,(len(s)+1))],height=s)\n",
    "plt.ylabel('Detection Percentage (%)',fontsize = 20)\n",
    "plt.xlabel('Granularities',fontsize = 20)\n",
    "plt.tick_params(axis='x', labelsize=14)\n",
    "plt.tick_params(axis='y', labelsize=18)\n",
    "ax.grid()\n",
    "\n",
    "plt.show()\n",
    "fig.savefig('Without_Feature_Extraction_tp.png', bbox_inches='tight')\n",
    "\n",
    "fig = plt.figure(figsize=[20,8])\n",
    "\n",
    "fig.suptitle('Original Attributes', fontsize=20)\n",
    "\n",
    "ax = fig.subplots(1,1)\n",
    "\n",
    "s = np.array(fp_rate) *100\n",
    "\n",
    "barlist = ax.bar(x=['G' + str(x) for x in range(1,(len(s)+1))],height=s)\n",
    "\n",
    "plt.ylabel('False Detection Percentage (%)',fontsize = 20)\n",
    "plt.xlabel('Granularities',fontsize = 20)\n",
    "plt.tick_params(axis='x', labelsize=14)\n",
    "plt.tick_params(axis='y', labelsize=18)\n",
    "ax.grid()\n",
    "\n",
    "\n",
    "plt.show()\n",
    "fig.savefig('Without_Feature_Extraction_fp.png', bbox_inches='tight')\n",
    "\n",
    "# Plot With Features extraction\n",
    "\n",
    "fig = plt.figure(figsize=[20,8])\n",
    "\n",
    "fig.suptitle('Original Attributes + Moments', fontsize=20)\n",
    "\n",
    "ax = fig.subplots(1,1)\n",
    "\n",
    "s = np.array(tp_rate2) *100\n",
    "\n",
    "ax.bar(x=['G' + str(x) for x in range(1,(len(s)+1))],height=s)\n",
    "plt.ylabel('Detection Percentage (%)',fontsize = 20)\n",
    "plt.xlabel('Granularities',fontsize = 20)\n",
    "plt.tick_params(axis='x', labelsize=14)\n",
    "plt.tick_params(axis='y', labelsize=18)\n",
    "ax.grid()\n",
    "\n",
    "plt.show()\n",
    "fig.savefig('With_Feature_Extraction_tp.png', bbox_inches='tight')\n",
    "\n",
    "fig = plt.figure(figsize=[20,8])\n",
    "\n",
    "fig.suptitle('Original Attributes + Moments', fontsize=20)\n",
    "\n",
    "ax = fig.subplots(1,1)\n",
    "\n",
    "s = np.array(fp_rate2) *100\n",
    "\n",
    "ax.bar(x=['G' + str(x) for x in range(1,(len(s)+1))],height=s)\n",
    "plt.ylabel('False Detection Percentage (%)',fontsize = 20)\n",
    "plt.xlabel('Granularities',fontsize = 20)\n",
    "plt.tick_params(axis='x', labelsize=14)\n",
    "plt.tick_params(axis='y', labelsize=18)\n",
    "ax.grid()\n",
    "\n",
    "\n",
    "plt.show()\n",
    "fig.savefig('With_Feature_Extraction_fp.png', bbox_inches='tight')\n",
    "\n",
    "\n",
    "#Ploting Comparrisons\n",
    "                    \n",
    "fig = plt.figure(figsize=[20,8])\n",
    "\n",
    "fig.suptitle('Percentage of Detection Difference', fontsize=20)\n",
    "\n",
    "ax = fig.subplots(1,1)\n",
    "\n",
    "s = (np.array((tp_rate2)) - np.array((tp_rate))) * 100\n",
    "\n",
    "barlist = ax.bar(x=['G' + str(x) for x in range(1,len(s)+1)],height=s)\n",
    "\n",
    "negative = []\n",
    "\n",
    "for i in range(len(s)):\n",
    "    if float(s[i]) < 0:\n",
    "        negative.append(i)\n",
    "\n",
    "for i in negative:\n",
    "    barlist[i].set_color('r')\n",
    "        \n",
    "plt.ylabel('Difference (%)',fontsize = 20)\n",
    "plt.xlabel('Granularities',fontsize = 20)\n",
    "plt.tick_params(axis='x', labelsize=14)\n",
    "plt.tick_params(axis='y', labelsize=18)\n",
    "ax.grid()\n",
    "\n",
    "plt.show()\n",
    "fig.savefig('True_Positive_Comparrison.png', bbox_inches='tight')\n",
    "\n",
    "fig = plt.figure(figsize=[20,8])\n",
    "\n",
    "fig.suptitle('Percentage of False Detection Difference', fontsize=20)\n",
    "\n",
    "ax = fig.subplots(1,1)\n",
    "\n",
    "s = (np.array((fp_rate2)) - np.array((fp_rate))) * 100\n",
    "\n",
    "barlist = ax.bar(x=['G' + str(x) for x in range(1,(len(s)+1))],height=s)\n",
    "\n",
    "negative = []\n",
    "\n",
    "for i in range(len(s)):\n",
    "    if float(s[i]) < 0:\n",
    "        negative.append(i)\n",
    "        \n",
    "for i in negative:\n",
    "    barlist[i].set_color('r')\n",
    "\n",
    "plt.ylabel('Difference (%)',fontsize = 20)\n",
    "plt.xlabel('Granularities',fontsize = 20)\n",
    "plt.tick_params(axis='x', labelsize=14)\n",
    "plt.tick_params(axis='y', labelsize=18)\n",
    "ax.grid()\n",
    "\n",
    "plt.show()\n",
    "fig.savefig('False_Positive_Comparrison.png', bbox_inches='tight')"
   ]
  }
 ],
 "metadata": {
  "colab": {
   "collapsed_sections": [],
   "name": "Model_Unified_Code.ipynb",
   "provenance": []
  },
  "kernelspec": {
   "display_name": "Python 3",
   "language": "python",
   "name": "python3"
  },
  "language_info": {
   "codemirror_mode": {
    "name": "ipython",
    "version": 3
   },
   "file_extension": ".py",
   "mimetype": "text/x-python",
   "name": "python",
   "nbconvert_exporter": "python",
   "pygments_lexer": "ipython3",
   "version": "3.7.6"
  }
 },
 "nbformat": 4,
 "nbformat_minor": 4
}
